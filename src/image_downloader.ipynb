{
 "cells": [
  {
   "cell_type": "code",
   "execution_count": null,
   "id": "ed99cf05",
   "metadata": {},
   "outputs": [],
   "source": [
    "import os\n",
    "import pandas as pd\n",
    "from pathlib import Path\n",
    "\n",
    "from utils import build_session, download_from_df, ensure_dir "
   ]
  },
  {
   "cell_type": "code",
   "execution_count": null,
   "id": "5a0a717d",
   "metadata": {},
   "outputs": [],
   "source": [
    "DATASET_FOLDER = '../dataset/'\n",
    "train = pd.read_csv(os.path.join(DATASET_FOLDER, 'train.csv'))\n",
    "test = pd.read_csv(os.path.join(DATASET_FOLDER, 'test.csv'))"
   ]
  },
  {
   "cell_type": "code",
   "execution_count": null,
   "id": "d70f243b",
   "metadata": {},
   "outputs": [],
   "source": [
    "train = train.sort_values(by='sample_id').reset_index(drop=True)\n",
    "test = test.sort_values(by='sample_id').reset_index(drop=True)\n",
    "\n",
    "print(\"Train shape:\", train.shape)\n",
    "print(\"Test shape:\", test.shape)"
   ]
  },
  {
   "cell_type": "code",
   "execution_count": null,
   "id": "0f869496",
   "metadata": {},
   "outputs": [],
   "source": [
    "# Output directories\n",
    "BASE_OUT = Path(\"complete_images\")\n",
    "TRAIN_DIR = ensure_dir(BASE_OUT / \"train_images\")\n",
    "TEST_DIR = ensure_dir(BASE_OUT / \"test_images\")\n",
    "\n",
    "# Log file names (outside images folder)\n",
    "train_log = Path(\"logs/train_download_failures.log\")\n",
    "test_log = Path(\"logs/test_download_failures.log\")\n",
    "\n",
    "# Download train images\n",
    "download_from_df(\n",
    "    df=train,\n",
    "    column=\"image_link\",\n",
    "    out_dir=TRAIN_DIR,\n",
    "    base_name=\"train\",           # e.g., train_1234.jpg\n",
    "    log_file=train_log,\n",
    "    id_column=\"sample_id\"\n",
    ")\n",
    "\n",
    "# Download test images\n",
    "download_from_df(\n",
    "    df=test,\n",
    "    column=\"image_link\",\n",
    "    out_dir=TEST_DIR,\n",
    "    base_name=\"test\",            # e.g., test_5678.jpg\n",
    "    log_file=test_log,\n",
    "    id_column=\"sample_id\"\n",
    ")"
   ]
  }
 ],
 "metadata": {
  "kernelspec": {
   "display_name": "venv (3.9.19)",
   "language": "python",
   "name": "python3"
  },
  "language_info": {
   "codemirror_mode": {
    "name": "ipython",
    "version": 3
   },
   "file_extension": ".py",
   "mimetype": "text/x-python",
   "name": "python",
   "nbconvert_exporter": "python",
   "pygments_lexer": "ipython3",
   "version": "3.9.19"
  }
 },
 "nbformat": 4,
 "nbformat_minor": 5
}
